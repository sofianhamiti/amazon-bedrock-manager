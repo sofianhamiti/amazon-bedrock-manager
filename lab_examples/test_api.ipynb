{
 "cells": [
  {
   "cell_type": "code",
   "execution_count": 18,
   "id": "7e79283d",
   "metadata": {},
   "outputs": [],
   "source": [
    "import os\n",
    "import json\n",
    "import boto3\n",
    "from botocore.config import Config\n",
    "\n",
    "# Lambda client\n",
    "lambda_client = boto3.client(\"lambda\")\n",
    "cost_center = \"abc\"\n",
    "\n",
    "# Bedrock client\n",
    "bedrock = boto3.client(\n",
    "    service_name=\"bedrock-runtime\",\n",
    "    region_name=\"us-east-1\",\n",
    "    config=Config(retries={\"max_attempts\": 3, \"mode\": \"adaptive\"}),\n",
    ")\n",
    "\n",
    "\n",
    "\n",
    "def prepare_bedrock_payload(event_body):\n",
    "    return json.dumps({\"prompt\": event_body[\"inputs\"], **event_body[\"parameters\"]})\n",
    "\n",
    "\n",
    "def invoke_bedrock(payload, model_id):\n",
    "    response = bedrock.invoke_model(\n",
    "        body=payload,\n",
    "        modelId=model_id,\n",
    "        accept=\"application/json\",\n",
    "        contentType=\"application/json\",\n",
    "    )\n",
    "    print(response)\n",
    "    if response[\"ResponseMetadata\"][\"HTTPStatusCode\"] == 200:\n",
    "        # Get text reponse from the model\n",
    "        completion = json.loads(response.get(\"body\").read())[\"completion\"]\n",
    "        request_id = response['ResponseMetadata']['RequestId']\n",
    "        \n",
    "        return completion, request_id\n",
    "\n",
    "    else:\n",
    "        raise Exception(\n",
    "            \"Bedrock API call failed with status \"\n",
    "            + str(response[\"ResponseMetadata\"][\"HTTPStatusCode\"])\n",
    "        )"
   ]
  },
  {
   "cell_type": "code",
   "execution_count": 19,
   "id": "bd7dcb8d",
   "metadata": {},
   "outputs": [],
   "source": [
    "event = {'resource': '/', 'path': '/', 'httpMethod': 'POST', 'headers': {'Accept': '*/*', 'Accept-Encoding': 'gzip, deflate', 'CloudFront-Forwarded-Proto': 'https', 'CloudFront-Is-Desktop-Viewer': 'true', 'CloudFront-Is-Mobile-Viewer': 'false', 'CloudFront-Is-SmartTV-Viewer': 'false', 'CloudFront-Is-Tablet-Viewer': 'false', 'CloudFront-Viewer-ASN': '12874', 'CloudFront-Viewer-Country': 'IT', 'Content-Type': 'application/json', 'Host': 'onlrex5fw0.execute-api.us-east-1.amazonaws.com', 'model_id': 'anthropic.claude-v2', 'User-Agent': 'python-requests/2.28.1', 'Via': '1.1 7c46840615f4a9403945d2fc5f3f0502.cloudfront.net (CloudFront)', 'X-Amz-Cf-Id': 'zTxGWpMQV8pYEFJKxwfPfEO9zJV7731FKVhmxEiK8NJSjCmJk7dpjw==', 'X-Amzn-Trace-Id': 'Root=1-650db8e5-675b3e7b411e4f032bb132ea', 'X-Forwarded-For': '93.42.47.3, 18.68.25.179', 'X-Forwarded-Port': '443', 'X-Forwarded-Proto': 'https'}, 'multiValueHeaders': {'Accept': ['*/*'], 'Accept-Encoding': ['gzip, deflate'], 'CloudFront-Forwarded-Proto': ['https'], 'CloudFront-Is-Desktop-Viewer': ['true'], 'CloudFront-Is-Mobile-Viewer': ['false'], 'CloudFront-Is-SmartTV-Viewer': ['false'], 'CloudFront-Is-Tablet-Viewer': ['false'], 'CloudFront-Viewer-ASN': ['12874'], 'CloudFront-Viewer-Country': ['IT'], 'Content-Type': ['application/json'], 'Host': ['onlrex5fw0.execute-api.us-east-1.amazonaws.com'], 'model_id': ['anthropic.claude-v2'], 'User-Agent': ['python-requests/2.28.1'], 'Via': ['1.1 7c46840615f4a9403945d2fc5f3f0502.cloudfront.net (CloudFront)'], 'X-Amz-Cf-Id': ['zTxGWpMQV8pYEFJKxwfPfEO9zJV7731FKVhmxEiK8NJSjCmJk7dpjw=='], 'X-Amzn-Trace-Id': ['Root=1-650db8e5-675b3e7b411e4f032bb132ea'], 'X-Forwarded-For': ['93.42.47.3, 18.68.25.179'], 'X-Forwarded-Port': ['443'], 'X-Forwarded-Proto': ['https']}, 'queryStringParameters': None, 'multiValueQueryStringParameters': None, 'pathParameters': None, 'stageVariables': None, 'requestContext': {'resourceId': 'cgfv64kxn8', 'resourcePath': '/', 'httpMethod': 'POST', 'extendedRequestId': 'LqnT7Ff9IAMFW8w=', 'requestTime': '22/Sep/2023:15:55:17 +0000', 'path': '/prod/', 'accountId': '232922378323', 'protocol': 'HTTP/1.1', 'stage': 'prod', 'domainPrefix': 'onlrex5fw0', 'requestTimeEpoch': 1695398117644, 'requestId': '395b24e5-8323-4782-8ec5-87bdffe36465', 'identity': {'cognitoIdentityPoolId': None, 'accountId': None, 'cognitoIdentityId': None, 'caller': None, 'sourceIp': '93.42.47.3', 'principalOrgId': None, 'accessKey': None, 'cognitoAuthenticationType': None, 'cognitoAuthenticationProvider': None, 'userArn': None, 'userAgent': 'python-requests/2.28.1', 'user': None}, 'domainName': 'onlrex5fw0.execute-api.us-east-1.amazonaws.com', 'apiId': 'onlrex5fw0'}, 'body': '{\"inputs\": \"\\\\nHuman: What day comes after Tuesday?\\\\n\\\\nAssistant:\\\\n\", \"parameters\": {\"temperature\": 0.2, \"max_tokens_to_sample\": 4096}}', 'isBase64Encoded': False}"
   ]
  },
  {
   "cell_type": "code",
   "execution_count": 20,
   "id": "a43fce51",
   "metadata": {},
   "outputs": [
    {
     "name": "stdout",
     "output_type": "stream",
     "text": [
      "{'ResponseMetadata': {'RequestId': '2107cb20-ff9a-4069-bc78-20067f7c51fe', 'HTTPStatusCode': 200, 'HTTPHeaders': {'date': 'Fri, 29 Sep 2023 12:50:28 GMT', 'content-type': 'application/json', 'content-length': '78', 'connection': 'keep-alive', 'x-amzn-requestid': '2107cb20-ff9a-4069-bc78-20067f7c51fe'}, 'RetryAttempts': 0}, 'contentType': 'application/json', 'body': <botocore.response.StreamingBody object at 0x7f8438193640>}\n",
      "2107cb20-ff9a-4069-bc78-20067f7c51fe\n"
     ]
    }
   ],
   "source": [
    "\n",
    "bedrock_payload = prepare_bedrock_payload(json.loads(event[\"body\"]))\n",
    "model_id = event[\"headers\"][\"model_id\"]\n",
    "\n",
    "completion, request_id = invoke_bedrock(\n",
    "    payload=bedrock_payload,\n",
    "    model_id=model_id,\n",
    ")\n",
    "\n",
    "print(request_id)\n",
    "\n",
    "logger.info(\n",
    "    {\n",
    "        \"cost_center\": cost_center,\n",
    "        \"request_id\": request_id\n",
    "    }\n",
    ")\n"
   ]
  },
  {
   "cell_type": "code",
   "execution_count": null,
   "id": "34d2740c",
   "metadata": {},
   "outputs": [],
   "source": []
  },
  {
   "cell_type": "code",
   "execution_count": null,
   "id": "95c9c27d",
   "metadata": {},
   "outputs": [],
   "source": []
  }
 ],
 "metadata": {
  "kernelspec": {
   "display_name": "conda_python3",
   "language": "python",
   "name": "conda_python3"
  },
  "language_info": {
   "codemirror_mode": {
    "name": "ipython",
    "version": 3
   },
   "file_extension": ".py",
   "mimetype": "text/x-python",
   "name": "python",
   "nbconvert_exporter": "python",
   "pygments_lexer": "ipython3",
   "version": "3.10.12"
  }
 },
 "nbformat": 4,
 "nbformat_minor": 5
}
